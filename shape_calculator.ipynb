{
 "cells": [
  {
   "cell_type": "code",
   "execution_count": 1,
   "id": "28f7e3e4",
   "metadata": {},
   "outputs": [],
   "source": [
    "#Subclass rectangle\n",
    "class shape_calculator():\n",
    "    \n",
    "    class Rectangle():\n",
    "    \n",
    "        def __init__(self,width,height):\n",
    "            self.width = width\n",
    "            self.height = height\n",
    "                \n",
    "        def __str__(self):\n",
    "            return  F'Rectangle (width={self.width}, height={self.height})'\n",
    "            \n",
    "        def set_width(self,new_width):\n",
    "            self.width=new_width\n",
    "    \n",
    "        def set_height(self,new_height):\n",
    "            self.height=new_height\n",
    "        \n",
    "        def get_area(self):\n",
    "            return self.width*self.height\n",
    "    \n",
    "        def get_perimeter(self):\n",
    "            return 2*self.width+2*self.height\n",
    "    \n",
    "        def get_diagonal(self):\n",
    "            diagonal=((self.width**2 + self.height**2)**(0.5))\n",
    "            return diagonal\n",
    "    \n",
    "        def get_picture(self):\n",
    "            a1=str\n",
    "            a=list()\n",
    "            if self.width>50 or self.height>50:\n",
    "                return \"Too big for picture\"\n",
    "            for i in range(self.height):\n",
    "                a.append(self.width*\"*\"+\"\\n\")\n",
    "        \n",
    "            a1= ''.join(a)\n",
    "            return print(a1)\n",
    "    \n",
    "        def get_amount_inside(self,shape):\n",
    "            \n",
    "            if shape.height>=self.height and shape.width>=self.width:\n",
    "                amount=1\n",
    "            \n",
    "            else:\n",
    "                amount=(self.height//shape.height)*(self.width//shape.width)\n",
    "            \n",
    "            return amount\n",
    "\n",
    "    #subclass square\n",
    "    class Square(Rectangle):\n",
    "        \n",
    "        def __init__(self,side):\n",
    "            self.width = side\n",
    "            self.height = side\n",
    "\n",
    "        def set_side(self,new_side):\n",
    "            self.width = new_side\n",
    "            self.height = new_side\n",
    "        \n",
    "        def __str__(self):\n",
    "            return  F'Square (side={self.width})'"
   ]
  },
  {
   "cell_type": "code",
   "execution_count": 2,
   "id": "449b10b4",
   "metadata": {
    "scrolled": true
   },
   "outputs": [
    {
     "name": "stdout",
     "output_type": "stream",
     "text": [
      "Rectangle (width=3, height=6)\n",
      "Square (side=5)\n",
      "18\n",
      "25\n",
      "18\n",
      "20\n",
      "6.708203932499369\n",
      "7.0710678118654755\n",
      "Rectangle (width=7, height=8)\n",
      "Square (side=2)\n",
      "Square (side=4)\n"
     ]
    }
   ],
   "source": [
    "# pruebas\n",
    "rect=shape_calculator.Rectangle(3, 6)\n",
    "sq=shape_calculator.Square(5)\n",
    "\n",
    "print(rect) #\"Rectangle(width=3, height=6)\"\n",
    "print(sq) #\"Square(side=5)\"\n",
    "print(rect.get_area())#18\n",
    "print(sq.get_area()) #25\n",
    "print(rect.get_perimeter()) #18\n",
    "print(sq.get_perimeter()) #20\n",
    "print(rect.get_diagonal()) #6.708203932499369\n",
    "print(sq.get_diagonal()) #7.0710678118654755\n",
    "\n",
    "\n",
    "rect.set_width(7)\n",
    "rect.set_height(8)\n",
    "sq.set_side(2)\n",
    "print(rect) # \"Rectangle(width=7, height=8)\"\n",
    "print(sq) #\"Square(side=2)\"\n",
    "sq.set_width(4)\n",
    "print(sq) #\"Square(side=4)\""
   ]
  },
  {
   "cell_type": "code",
   "execution_count": 3,
   "id": "60120e5e",
   "metadata": {},
   "outputs": [
    {
     "name": "stdout",
     "output_type": "stream",
     "text": [
      "*******\n",
      "*******\n",
      "*******\n",
      "\n"
     ]
    }
   ],
   "source": [
    "rect.set_width(7)\n",
    "rect.set_height(3)\n",
    "rect.get_picture()\n",
    "#       expected = \"*******\\n*******\\n*******\\n\""
   ]
  },
  {
   "cell_type": "code",
   "execution_count": 4,
   "id": "5869d672",
   "metadata": {},
   "outputs": [
    {
     "name": "stdout",
     "output_type": "stream",
     "text": [
      "**\n",
      "**\n",
      "\n"
     ]
    }
   ],
   "source": [
    "sq.set_side(2)\n",
    "sq.get_picture()\n",
    " #       expected = \"**\\n**\\n\""
   ]
  },
  {
   "cell_type": "code",
   "execution_count": 5,
   "id": "b0e5772a",
   "metadata": {
    "scrolled": false
   },
   "outputs": [
    {
     "data": {
      "text/plain": [
       "'Too big for picture'"
      ]
     },
     "execution_count": 5,
     "metadata": {},
     "output_type": "execute_result"
    }
   ],
   "source": [
    "rect.set_width(51)\n",
    "rect.set_height(3)\n",
    "rect.get_picture() #expected = \"Too big for picture.\""
   ]
  },
  {
   "cell_type": "code",
   "execution_count": 6,
   "id": "f6adcb7a",
   "metadata": {},
   "outputs": [
    {
     "data": {
      "text/plain": [
       "35"
      ]
     },
     "execution_count": 6,
     "metadata": {},
     "output_type": "execute_result"
    }
   ],
   "source": [
    "rect.set_height(10)\n",
    "rect.set_width(15)\n",
    "rect.get_amount_inside(sq)"
   ]
  },
  {
   "cell_type": "code",
   "execution_count": 7,
   "id": "9e3e2c1e",
   "metadata": {},
   "outputs": [
    {
     "data": {
      "text/plain": [
       "1"
      ]
     },
     "execution_count": 7,
     "metadata": {},
     "output_type": "execute_result"
    }
   ],
   "source": [
    "rect2 = shape_calculator.Rectangle(4, 8)\n",
    "rect2.get_amount_inside(rect) #1"
   ]
  },
  {
   "cell_type": "code",
   "execution_count": 8,
   "id": "7cd98700",
   "metadata": {},
   "outputs": [
    {
     "data": {
      "text/plain": [
       "1"
      ]
     },
     "execution_count": 8,
     "metadata": {},
     "output_type": "execute_result"
    }
   ],
   "source": [
    "rect2 = shape_calculator.Rectangle(2, 3)\n",
    "rect2.get_amount_inside(rect) # expected 1"
   ]
  },
  {
   "cell_type": "code",
   "execution_count": 9,
   "id": "0501bac3",
   "metadata": {},
   "outputs": [
    {
     "name": "stdout",
     "output_type": "stream",
     "text": [
      "50\n",
      "26\n",
      "Rectangle (width=3, height=10)\n",
      "81\n",
      "5.656854249492381\n",
      "Square (side=4)\n"
     ]
    }
   ],
   "source": [
    "# main tets\n",
    "rect = shape_calculator.Rectangle(5, 10)\n",
    "print(rect.get_area()) #50\n",
    "rect.set_width(3)\n",
    "print(rect.get_perimeter()) #26\n",
    "print(rect) #Rectangle(width=3, height=10)\n",
    "\n",
    "sq = shape_calculator.Square(9)\n",
    "print(sq.get_area()) # 81\n",
    "sq.set_side(4)\n",
    "print(sq.get_diagonal()) #5.656854249492381\n",
    "print(sq) #Square(side=4)"
   ]
  },
  {
   "cell_type": "code",
   "execution_count": 10,
   "id": "85296db8",
   "metadata": {},
   "outputs": [
    {
     "name": "stdout",
     "output_type": "stream",
     "text": [
      "8\n"
     ]
    }
   ],
   "source": [
    "sq.set_side(4)\n",
    "rect.set_height(8)\n",
    "rect.set_width(16)\n",
    "print(rect.get_amount_inside(sq)) # expected 8"
   ]
  },
  {
   "cell_type": "code",
   "execution_count": null,
   "id": "abd92418",
   "metadata": {},
   "outputs": [],
   "source": []
  }
 ],
 "metadata": {
  "kernelspec": {
   "display_name": "Python 3 (ipykernel)",
   "language": "python",
   "name": "python3"
  },
  "language_info": {
   "codemirror_mode": {
    "name": "ipython",
    "version": 3
   },
   "file_extension": ".py",
   "mimetype": "text/x-python",
   "name": "python",
   "nbconvert_exporter": "python",
   "pygments_lexer": "ipython3",
   "version": "3.9.13"
  }
 },
 "nbformat": 4,
 "nbformat_minor": 5
}
